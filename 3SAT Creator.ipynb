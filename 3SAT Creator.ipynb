{
 "cells": [
  {
   "cell_type": "code",
   "execution_count": 1,
   "metadata": {},
   "outputs": [],
   "source": [
    "import random\n",
    "import numpy as np\n",
    "import sys\n",
    "from datetime import datetime\n",
    "import operator\n",
    "\n",
    "np.set_printoptions(threshold=sys.maxsize)\n",
    "\n",
    "amount_of_variables = 10000\n",
    "amount_of_clauses = amount_of_variables * 5"
   ]
  },
  {
   "cell_type": "code",
   "execution_count": 2,
   "metadata": {},
   "outputs": [
    {
     "name": "stdout",
     "output_type": "stream",
     "text": [
      "Calculate Original Variables and Clauses\n",
      "Amount of original literals:  100\n",
      "Wall time: 6.98 ms\n"
     ]
    }
   ],
   "source": [
    "%%time\n",
    "\n",
    "print('Calculate Original Variables and Clauses')\n",
    "\n",
    "# random calculate the original literals\n",
    "original_variables = np.arange(1,amount_of_variables + 1 )\n",
    "boolean_array = np.random.choice(a=[-1, 1], size=(amount_of_variables))\n",
    "original_variables = original_variables * boolean_array\n",
    "print('Amount of original literals: ', len(original_variables))\n",
    "\n",
    "# calculate the clauses\n",
    "first_elements = np.random.choice(original_variables, amount_of_clauses)\n",
    "\n",
    "second_elements = np.random.randint(1,amount_of_variables + 1, amount_of_clauses)\n",
    "boolean_array = np.random.choice(a=[-1, 1], size=(amount_of_clauses))\n",
    "second_elements = second_elements * boolean_array\n",
    "\n",
    "third_elements = np.random.randint(1,amount_of_variables + 1, amount_of_clauses)\n",
    "boolean_array = np.random.choice(a=[-1, 1], size=(amount_of_clauses))\n",
    "third_elements = third_elements * boolean_array\n",
    "\n",
    "original_clauses = np.concatenate((first_elements, second_elements, third_elements))\n",
    "original_clauses = np.reshape(original_clauses, (amount_of_clauses, 3), order='F')\n",
    "\n",
    "# shuffle the clauses by column\n",
    "shuffled_original_clauses = []\n",
    "for clause in original_clauses:\n",
    "    random.shuffle(clause)\n",
    "    shuffled_original_clauses.append(clause.tolist())\n",
    "original_clauses = np.array(shuffled_original_clauses)"
   ]
  },
  {
   "cell_type": "code",
   "execution_count": 3,
   "metadata": {},
   "outputs": [],
   "source": [
    "# Write to file\n",
    "original_clauses_str = np.array_str(original_clauses)\n",
    "original_clauses_str = original_clauses_str.replace(' [  ', '')\n",
    "original_clauses_str = original_clauses_str.replace(' [ ', '')\n",
    "original_clauses_str = original_clauses_str.replace('[[  ', '')\n",
    "original_clauses_str = original_clauses_str.replace('[[ ', '')\n",
    "original_clauses_str = original_clauses_str.replace(']', '')\n",
    "original_clauses_str = original_clauses_str.replace('\\n', ' 0\\n')\n",
    "original_clauses_str = original_clauses_str.replace('  ', ' ')\n",
    "original_clauses_str = original_clauses_str.replace('  ', ' ')\n",
    "\n",
    "original_clauses_str = 'p cnf ' + str(amount_of_variables) + ' ' + str(amount_of_clauses) + ' \\n' + original_clauses_str\n",
    "original_clauses_str = 'c created by https://github.com/3SATSolver/3SATCreator/blob/master/3SAT%20Creator.ipynb \\n'+ original_clauses_str\n",
    "\n",
    "f = open('3SATProblems/' + timestamp + '3SATProblem.cnf', 'w')\n",
    "f.write(original_clauses_str)\n",
    "f.close()\n",
    "\n",
    "f = open('3SATProblems/' + timestamp + '3SATSolution.txt', 'w')\n",
    "f.write(np.array_str(original_variables))\n",
    "f.close()"
   ]
  }
 ],
 "metadata": {
  "kernelspec": {
   "display_name": "Python 3",
   "language": "python",
   "name": "python3"
  },
  "language_info": {
   "codemirror_mode": {
    "name": "ipython",
    "version": 3
   },
   "file_extension": ".py",
   "mimetype": "text/x-python",
   "name": "python",
   "nbconvert_exporter": "python",
   "pygments_lexer": "ipython3",
   "version": "3.7.6"
  }
 },
 "nbformat": 4,
 "nbformat_minor": 4
}
