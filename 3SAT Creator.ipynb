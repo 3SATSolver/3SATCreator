{
 "cells": [
  {
   "cell_type": "code",
   "execution_count": 1,
   "metadata": {},
   "outputs": [],
   "source": [
    "import random\n",
    "import numpy as np\n",
    "import sys\n",
    "from datetime import datetime\n",
    "import operator\n",
    "\n",
    "np.set_printoptions(threshold=sys.maxsize)"
   ]
  },
  {
   "cell_type": "code",
   "execution_count": 2,
   "metadata": {},
   "outputs": [],
   "source": [
    "def create_3_SAT_problem():\n",
    "    \n",
    "    global amount_of_literals, amount_of_clauses\n",
    "    \n",
    "    print('Calculate Original Literals and Clauses')\n",
    "\n",
    "    # random calculate the original literals\n",
    "    original_literals = np.arange(1,amount_of_literals + 1 )\n",
    "    boolean_array = np.random.choice(a=[-1, 1], size=(amount_of_literals))\n",
    "    original_literals = original_literals * boolean_array\n",
    "    print('Amount of original literals: ', len(original_literals))\n",
    "\n",
    "    # calculate the clauses\n",
    "    first_elements = np.random.choice(original_literals, amount_of_clauses)\n",
    "\n",
    "    second_elements = np.random.randint(1,amount_of_literals + 1, amount_of_clauses)\n",
    "    boolean_array = np.random.choice(a=[-1, 1], size=(amount_of_clauses))\n",
    "    second_elements = second_elements * boolean_array\n",
    "\n",
    "    third_elements = np.random.randint(1,amount_of_literals + 1, amount_of_clauses)\n",
    "    boolean_array = np.random.choice(a=[-1, 1], size=(amount_of_clauses))\n",
    "    third_elements = third_elements * boolean_array\n",
    "\n",
    "    original_clauses = np.concatenate((first_elements, second_elements, third_elements))\n",
    "    original_clauses = np.reshape(original_clauses, (amount_of_clauses, 3), order='F')\n",
    "\n",
    "    rng = np.random.default_rng()\n",
    "    rng.shuffle(original_clauses, axis=1)\n",
    "    \n",
    "    # Write to file\n",
    "    original_clauses_str = np.array_str(original_clauses)\n",
    "    original_clauses_str = original_clauses_str.replace('[[', '[')\n",
    "    original_clauses_str = original_clauses_str.replace(']]', ']')\n",
    "    original_clauses_str = original_clauses_str.replace('[ ', '(')\n",
    "    original_clauses_str = original_clauses_str.replace('[', '(')\n",
    "    original_clauses_str = original_clauses_str.replace('( ', '(')\n",
    "    original_clauses_str = original_clauses_str.replace('( ', '(')\n",
    "    original_clauses_str = original_clauses_str.replace(']', ')')\n",
    "    original_clauses_str = original_clauses_str.replace(' )', ')')\n",
    "    original_clauses_str = original_clauses_str.replace('  ', ' ')\n",
    "    original_clauses_str = original_clauses_str.replace('  ', ' V ')\n",
    "    original_clauses_str = original_clauses_str.replace('-', '¬')\n",
    "    original_clauses_str = original_clauses_str.replace('\\n', ' ^ ')\n",
    "    original_clauses_str = original_clauses_str.replace('  ', ' ')\n",
    "    \n",
    "    timestamp = datetime.now().strftime(\"%d%m%y%H%M%S\")\n",
    "\n",
    "    f = open('3SATProblems/' + timestamp + '3SATProblem.cnf', 'w')\n",
    "    f.write(original_clauses_str)\n",
    "    f.close()\n",
    "\n",
    "    f = open('3SATProblems/' + timestamp + '3SATSolution.txt', 'w')\n",
    "    f.write(np.array_str(original_literals))\n",
    "    f.close()"
   ]
  },
  {
   "cell_type": "code",
   "execution_count": 4,
   "metadata": {},
   "outputs": [
    {
     "name": "stdout",
     "output_type": "stream",
     "text": [
      "Calculate Original Literals and Clauses\n",
      "Amount of original literals:  10000\n",
      "Wall time: 1.48 s\n"
     ]
    }
   ],
   "source": [
    "%%time\n",
    "\n",
    "amount_of_literals = 10000\n",
    "amount_of_clauses = amount_of_literals * 5\n",
    "create_3_SAT_problem()"
   ]
  },
  {
   "cell_type": "code",
   "execution_count": null,
   "metadata": {},
   "outputs": [],
   "source": []
  },
  {
   "cell_type": "code",
   "execution_count": null,
   "metadata": {},
   "outputs": [],
   "source": []
  }
 ],
 "metadata": {
  "kernelspec": {
   "display_name": "Python 3",
   "language": "python",
   "name": "python3"
  },
  "language_info": {
   "codemirror_mode": {
    "name": "ipython",
    "version": 3
   },
   "file_extension": ".py",
   "mimetype": "text/x-python",
   "name": "python",
   "nbconvert_exporter": "python",
   "pygments_lexer": "ipython3",
   "version": "3.7.6"
  }
 },
 "nbformat": 4,
 "nbformat_minor": 4
}
